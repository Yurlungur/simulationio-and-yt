{
 "cells": [
  {
   "cell_type": "markdown",
   "metadata": {},
   "source": [
    "# Welcome to the Einstein Toolkit Workshop Server!\n",
    "\n",
    "## Data\n",
    "\n",
    "You will find data you can manipulate in the 'data' subdirectory. You can not write from this directory, only read.\n",
    "\n",
    "## Notebooks\n",
    "\n",
    "You find several IPython notebooks in your home directory. Theres are examples you can use to build off of in your own explorations. I reconmend you start with one of the following:\n",
    "\n",
    "* `static-tov-cell-centred.ipynb`\n",
    "\n",
    "* `Generating SimulationIO Files.ipynb`\n",
    "\n",
    "* `Exploring a SimulationIO File.ipynb`\n",
    "\n",
    "These IPython notebooks are interactive. You can evaluate a block of code with `shift+enter`. You can also add and remove cells. It's kind of like Mathematica, but for different languages. Some notebooks are Python and others are Bash (i.e., command line). By the way, this is a notebook too. This one is Bash. Try entering some commands below."
   ]
  },
  {
   "cell_type": "code",
   "execution_count": 1,
   "metadata": {
    "collapsed": false
   },
   "outputs": [
    {
     "name": "stdout",
     "output_type": "stream",
     "text": []
    }
   ],
   "source": [
    "# enter a command in this cell!"
   ]
  },
  {
   "cell_type": "markdown",
   "metadata": {},
   "source": [
    "## Data files\n",
    "\n",
    "The files are as follows:\n",
    "\n",
    "* `bns-0000.s5` - This is the first two timesteps of a binary neutron star simulation by David Radice\n",
    "\n",
    "* `qc0-mclachlan-cell.s5` - A binary black hole simulation\n",
    "\n",
    "* `static_tov_cell` - the Cactus output from a single static neutron star in full 3D. This uses a cell-centred refinement strategy. You must convert this data to a SimulationIO file before you can use it.\n",
    "\n",
    "* `static_tov_vertex` - the Cactus output from a single static neutron star in full 3D. This uses a vertex-centred refinement strategy. You must convert this data to a SimulationIO file before you can use it.\n",
    "\n",
    "## Restrictions\n",
    "\n",
    "Please do not create new SimulationIO files for the qc0-mclachlan or bns datasets. They are too large and there is not enough space on the hard disk."
   ]
  },
  {
   "cell_type": "code",
   "execution_count": null,
   "metadata": {
    "collapsed": true
   },
   "outputs": [],
   "source": []
  }
 ],
 "metadata": {
  "kernelspec": {
   "display_name": "Bash",
   "language": "bash",
   "name": "bash"
  },
  "language_info": {
   "codemirror_mode": "shell",
   "file_extension": ".sh",
   "mimetype": "text/x-sh",
   "name": "bash"
  }
 },
 "nbformat": 4,
 "nbformat_minor": 0
}
