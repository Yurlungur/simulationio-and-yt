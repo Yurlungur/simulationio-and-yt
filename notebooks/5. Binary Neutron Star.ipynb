{
 "cells": [
  {
   "cell_type": "markdown",
   "metadata": {},
   "source": [
    "# Binary Neutron Star Data\n",
    "\n",
    "This notebook provides the skeleton of an exercise to explore binary neutron star data.\n",
    "\n",
    "This data was kindly provided by David Radice. We have the first two time steps of an in-spiral. \n",
    "\n",
    "Note that this simulation was performed with reflection symmetry about the z-axis. This means volume renders from arbitrary directions won't look so good. However, a projection plot is essentially a volume render along a coordinate axis, and this should look fine."
   ]
  },
  {
   "cell_type": "markdown",
   "metadata": {},
   "source": [
    "## Loading the data\n",
    "\n",
    "This simulation, like many production simulations, saves hard disk space by not outputting the \"physical\" coordinates of the grids in the manifold. Therefore we need to give yt some hints. We need to tell it the cell width and the position of the lower-left corner of the outermost ghost cel on the  coarsest grid.\n",
    "\n",
    "We can get this information by looking at the parameter file. In particular, the following lines (evaluate the bash cell to see):"
   ]
  },
  {
   "cell_type": "code",
   "execution_count": null,
   "metadata": {
    "collapsed": false
   },
   "outputs": [],
   "source": [
    "%%bash\n",
    "sed -n -e 114,147p ./data/bns/output-0000/parfile.par"
   ]
  },
  {
   "cell_type": "markdown",
   "metadata": {},
   "source": [
    "This tells us that the lower-left corner is `[-1024,-1024,0]` but that there are three ghost cells and that the cell width on the coarsest grid is `8`.\n",
    "\n",
    "So let's feed that to yt:"
   ]
  },
  {
   "cell_type": "code",
   "execution_count": null,
   "metadata": {
    "collapsed": false
   },
   "outputs": [],
   "source": [
    "import yt\n",
    "import numpy as np\n",
    "filename = 'data/bns-0000.s5'\n",
    "configuration_name = 'iteration.{:0>10}-timelevel.0'.format(0)\n",
    "num_ghosts = 3\n",
    "cell_width = 8.0*np.ones(3)\n",
    "left_edge = np.array([-1024,-1024,0]) - num_ghosts*cell_width\n",
    "print \"left_edge = {}\".format(left_edge)\n",
    "ds = yt.load(filename,\n",
    "            configuration = configuration_name,\n",
    "            domain_dds = cell_width,\n",
    "            domain_left_edge = left_edge)"
   ]
  },
  {
   "cell_type": "markdown",
   "metadata": {},
   "source": [
    "## Make some plots!\n",
    "\n",
    "Some interesting quantities:\n",
    "\n",
    "* `density`\n",
    "\n",
    "* `electron_fraction`\n",
    "\n",
    "* `temperature`\n",
    "\n",
    "Note that this simulation was performed with reflection about the $z=0$ plane. This messes yt up a little. yt likes to plot the center of the *active* domain. i.e, $z=512$. To get correct behaviour, use the `center=[0,0,0]` keyword argument."
   ]
  }
 ],
 "metadata": {
  "kernelspec": {
   "display_name": "Python 2",
   "language": "python",
   "name": "python2"
  },
  "language_info": {
   "codemirror_mode": {
    "name": "ipython",
    "version": 2
   },
   "file_extension": ".py",
   "mimetype": "text/x-python",
   "name": "python",
   "nbconvert_exporter": "python",
   "pygments_lexer": "ipython2",
   "version": "2.7.11"
  }
 },
 "nbformat": 4,
 "nbformat_minor": 0
}
