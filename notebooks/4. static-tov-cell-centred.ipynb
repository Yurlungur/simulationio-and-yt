{
 "cells": [
  {
   "cell_type": "markdown",
   "metadata": {},
   "source": [
    "# 3D Visualization of a Static Neutron Star\n",
    "\n",
    "This notebook walks you through some of the visualization you can do with a static neutron star with cell-centred data. This is an IPython notebook, so as you read through it, evaluate the code with `shift+enter`. As we go, I'll also make suggestions about other things you can do or try.\n",
    "\n",
    "This tutorial only scratches the surface of what yt can do. A great resource is the yt documentation, which you can find [here.](http://yt-project.org/docs/dev/)\n",
    "\n",
    "## Creating a file\n",
    "\n",
    "First we need to create a file to explore. We convert the native carpet format to a `SimulationIO` file. You only need to do this once."
   ]
  },
  {
   "cell_type": "code",
   "execution_count": null,
   "metadata": {
    "collapsed": false
   },
   "outputs": [],
   "source": [
    "import subprocess\n",
    "subprocess.call('/usr/local/bin/sio-convert-carpet-output '\n",
    "                +'./static-tov-cell.s5 '\n",
    "                +'./data/static_tov_cell/output-0000/'\n",
    "                +'static_tov_cell_centred/*.h5',\n",
    "               shell=True)"
   ]
  },
  {
   "cell_type": "markdown",
   "metadata": {},
   "source": [
    "## Importing yt and preparing the notebook\n",
    "\n",
    "To use yt to visualize the data we need to import it. yt is just a python package, so that's easy. \n",
    "\n",
    "We also need to tell the IPython notebook to present plots inline. We can do that with `%matplotlib inline`. "
   ]
  },
  {
   "cell_type": "code",
   "execution_count": null,
   "metadata": {
    "collapsed": false
   },
   "outputs": [],
   "source": [
    "import yt\n",
    "%matplotlib inline"
   ]
  },
  {
   "cell_type": "markdown",
   "metadata": {},
   "source": [
    "## Loading the data\n",
    "\n",
    "yt is pretty smart. If we give it a file name, it automatically figures out what kind of file it is and reads in the data correctly.\n",
    "\n",
    "But for `SimulationIO` files, we also need to specify the `configuration`. yt reads in only one timestep at a time, so the configuration specifies the time step and time level (some refinement levels take more time steps than others).\n",
    "\n",
    "In the future, there will be a cleaner interface, but for now you must submit the configuration as a string.\n",
    "\n",
    "yt prints out a lot of debugging output when it loads a file. You can either read it, or you can turn it off with the following settings in `~/.yt/config` (see [here](http://yt-project.org/doc/faq/index.html) for an explanation):\n",
    "```bash\n",
    "[yt]\n",
    "loglevel = 40\n",
    "```\n",
    "\n",
    "You can also make the output a little easier to read by clicking to the left of the output cell in the notebook. This makes it fold into a submenu which you can scroll through separately."
   ]
  },
  {
   "cell_type": "code",
   "execution_count": null,
   "metadata": {
    "collapsed": false,
    "scrolled": true
   },
   "outputs": [],
   "source": [
    "fpath = \"./static-tov-cell.s5\"\n",
    "configurationname='iteration.0000000000-timelevel.0'\n",
    "ds = yt.load(fpath,\n",
    "             configuration=configurationname)"
   ]
  },
  {
   "cell_type": "markdown",
   "metadata": {},
   "source": [
    "The fundamental object in yt is a `dataset` object, which is returned when you call `yt.load`. It's typically called `ds`. We'll pass the `dataset` object into lots of functions."
   ]
  },
  {
   "cell_type": "markdown",
   "metadata": {},
   "source": [
    "### Exercise\n",
    "\n",
    "How would you load vertex-centred data instead? Or a dataset missing missing things like grid cell locations? (Hint: look at [my slides](http://52.28.232.90/jmiller/simulationio-yt-slides.pdf).) You will need to use a different data set for this. I recomend a new IPython notebook."
   ]
  },
  {
   "cell_type": "markdown",
   "metadata": {},
   "source": [
    "### Exercise\n",
    "\n",
    "How would you iterate through several timesteps of data? This dataset only has one timestep, so you'll need a different one."
   ]
  },
  {
   "cell_type": "markdown",
   "metadata": {},
   "source": [
    "## Examining the Data\n",
    "\n",
    "yt is capable of a fair amount of data analysis by itself. For instance, we can ask it about the grid in the dataset we just loaded."
   ]
  },
  {
   "cell_type": "code",
   "execution_count": null,
   "metadata": {
    "collapsed": false,
    "scrolled": false
   },
   "outputs": [],
   "source": [
    "ds.print_stats()"
   ]
  },
  {
   "cell_type": "markdown",
   "metadata": {
    "collapsed": false
   },
   "source": [
    "So our grid has five refinement levels, each $60^3$ cells. yt's default units are `cgs` units, but it can handle many different unit types. The units yt assumes for the hydrodynamical variables are the defaults in `HYDROBASE` in Cactus. You can find the details [here](https://einsteintoolkit.org/documentation/ThornDoc/EinsteinBase/HydroBase/)."
   ]
  },
  {
   "cell_type": "markdown",
   "metadata": {},
   "source": [
    "We can also ask for things like how wide the domain is. It tells us in units of \"code length\", which is basically whatever arbitrary units you specified in your parameter file."
   ]
  },
  {
   "cell_type": "code",
   "execution_count": null,
   "metadata": {
    "collapsed": false
   },
   "outputs": [],
   "source": [
    "print ds.domain_width"
   ]
  },
  {
   "cell_type": "markdown",
   "metadata": {},
   "source": [
    "Same with domain left and right edge:"
   ]
  },
  {
   "cell_type": "code",
   "execution_count": null,
   "metadata": {
    "collapsed": false
   },
   "outputs": [],
   "source": [
    "print ds.domain_left_edge\n",
    "print ds.domain_right_edge"
   ]
  },
  {
   "cell_type": "markdown",
   "metadata": {},
   "source": [
    "Or even the left and right edges of every single independent discretization block. yt calls separate discretization blocks \"grids.\" These correspond to anything that Carpet has split up into a separate zone, including a refinement region, a component (i.e., a separate memory domain), etc.\n",
    "\n",
    "To access yt's grids, we use the `index` class, which contains the grids in a data set."
   ]
  },
  {
   "cell_type": "code",
   "execution_count": null,
   "metadata": {
    "collapsed": false
   },
   "outputs": [],
   "source": [
    "for grid in ds.index.grids:\n",
    "    print grid.LeftEdge,grid.RightEdge"
   ]
  },
  {
   "cell_type": "markdown",
   "metadata": {},
   "source": [
    "There's actually syntactic sugar for this:"
   ]
  },
  {
   "cell_type": "code",
   "execution_count": null,
   "metadata": {
    "collapsed": false
   },
   "outputs": [],
   "source": [
    "ds.index.grid_left_edge"
   ]
  },
  {
   "cell_type": "markdown",
   "metadata": {},
   "source": [
    "### Fields \n",
    "\n",
    "yt treats each variable as a `field`. We can see what fields are \"native\" to the file by asking yt for a \"field list\":"
   ]
  },
  {
   "cell_type": "code",
   "execution_count": null,
   "metadata": {
    "collapsed": false,
    "scrolled": true
   },
   "outputs": [],
   "source": [
    "ds.field_list"
   ]
  },
  {
   "cell_type": "markdown",
   "metadata": {
    "collapsed": false
   },
   "source": [
    "But yt has many more \"derived fields\" which are automatically calculated from these quantities. Derived fields also include convenient names for the native simulationio fields. For instance, the name `density` maps to `HYDROBASE::rho`. Let's look at the list of derived fields. (Warning, it's a VERY long list.)"
   ]
  },
  {
   "cell_type": "code",
   "execution_count": null,
   "metadata": {
    "collapsed": false,
    "scrolled": true
   },
   "outputs": [],
   "source": [
    "ds.derived_field_list"
   ]
  },
  {
   "cell_type": "markdown",
   "metadata": {
    "collapsed": false,
    "scrolled": true
   },
   "source": [
    "By convention, all continuum variables are prefixed with `gas`. Don't worry. This won't come up anywhere but here. The user interface mostly surpresses that."
   ]
  },
  {
   "cell_type": "markdown",
   "metadata": {},
   "source": [
    "### Accessing field data\n",
    "\n",
    "If you want, you can directly inspect the field data. Just access the grid you want (as above) and then index into it as if it were a Python dictionary. That'll give you a 3D array containing the data for that field in that grid."
   ]
  },
  {
   "cell_type": "code",
   "execution_count": null,
   "metadata": {
    "collapsed": false
   },
   "outputs": [],
   "source": [
    "grid0 = ds.index.grids[0]\n",
    "density0 = grid0['density']\n",
    "print density0.shape"
   ]
  },
  {
   "cell_type": "markdown",
   "metadata": {},
   "source": [
    "### Exercise\n",
    "\n",
    "See if you can define a new derived field, say the linear momentum. Use [this](http://yt-project.org/docs/dev/quickstart/derived_fields_and_profiles.html?highlight=derived%20field) web page to guide you."
   ]
  },
  {
   "cell_type": "markdown",
   "metadata": {},
   "source": [
    "## Submanifolds\n",
    "\n",
    "We can also look only at specific regions of a dataset. For example, a sphere centred at the origin:"
   ]
  },
  {
   "cell_type": "code",
   "execution_count": null,
   "metadata": {
    "collapsed": false
   },
   "outputs": [],
   "source": [
    "sp = ds.sphere([0.0, 0.0, 0.0], (50, 'code_length'))"
   ]
  },
  {
   "cell_type": "markdown",
   "metadata": {},
   "source": [
    "This generates a `sphere` object, which we can interact with in a number of ways and which can give us several physical quantities."
   ]
  },
  {
   "cell_type": "code",
   "execution_count": null,
   "metadata": {
    "collapsed": false
   },
   "outputs": [],
   "source": [
    "print sp"
   ]
  },
  {
   "cell_type": "code",
   "execution_count": null,
   "metadata": {
    "collapsed": false
   },
   "outputs": [],
   "source": [
    "print sp.quantities.keys()"
   ]
  },
  {
   "cell_type": "code",
   "execution_count": null,
   "metadata": {
    "collapsed": false
   },
   "outputs": [],
   "source": [
    "print sp.quantities.total_quantity('ones')"
   ]
  },
  {
   "cell_type": "code",
   "execution_count": null,
   "metadata": {
    "collapsed": false
   },
   "outputs": [],
   "source": [
    "print sp.quantities.extrema('lapse')"
   ]
  },
  {
   "cell_type": "code",
   "execution_count": null,
   "metadata": {
    "collapsed": false
   },
   "outputs": [],
   "source": [
    "print sp.quantities.total_quantity('density')"
   ]
  },
  {
   "cell_type": "markdown",
   "metadata": {},
   "source": [
    "## Simple Visualization\n",
    "\n",
    "Okay! The moment you've all been waiting for! Let's make some plots!"
   ]
  },
  {
   "cell_type": "markdown",
   "metadata": {},
   "source": [
    "### Slice Plots\n",
    "\n",
    "A slice plot just takes a 2D slice of 3D data along a coordinate axis. You call `yt.SlicePlot` and feed in the dataset, the axis you want to ignore, and the variable you want to plot. Let's plot the $xx$-component of the metric."
   ]
  },
  {
   "cell_type": "code",
   "execution_count": null,
   "metadata": {
    "collapsed": false
   },
   "outputs": [],
   "source": [
    "p = yt.SlicePlot(ds, \"z\", \"metric_xx\")\n",
    "p.show()"
   ]
  },
  {
   "cell_type": "markdown",
   "metadata": {},
   "source": [
    "That's not very detailed! Can we make it easier to look at? Let's set the colorbar to linear scale instead of log, zoom in a bit, and add annotations telling us where the grids are."
   ]
  },
  {
   "cell_type": "code",
   "execution_count": null,
   "metadata": {
    "collapsed": false
   },
   "outputs": [],
   "source": [
    "p = yt.SlicePlot(ds, \"z\", \"metric_xx\")\n",
    "p.set_cmap(field=\"all\", cmap=\"jet\")\n",
    "p.set_log('metric_xx',False)\n",
    "p.annotate_grids()\n",
    "p.set_width(100,'km')\n",
    "p.show()"
   ]
  },
  {
   "cell_type": "markdown",
   "metadata": {
    "collapsed": false
   },
   "source": [
    "That's better! We can also save the plot with \n",
    "\n",
    "```python\n",
    "p.save('static-tov-slice.png')\n",
    "```\n",
    "\n",
    "Try it if you want."
   ]
  },
  {
   "cell_type": "markdown",
   "metadata": {},
   "source": [
    "### Exercise\n",
    "\n",
    "yt also let's you perform slice plots \"off-axis.\" Look through the [yt documentation](http://yt-project.org/docs/dev/index.html) and figure out how. Should the plot look any different? If so you how?"
   ]
  },
  {
   "cell_type": "markdown",
   "metadata": {},
   "source": [
    "### Plotting the grid level\n",
    "\n",
    "It can sometimes be convenient to plot refinement level locations. You can do that with the special `grid_level` field."
   ]
  },
  {
   "cell_type": "code",
   "execution_count": null,
   "metadata": {
    "collapsed": false
   },
   "outputs": [],
   "source": [
    "p = yt.SlicePlot(ds, 'z', \"grid_level\")\n",
    "p.set_log(\"grid_level\",False)\n",
    "p.annotate_grids()\n",
    "p.show()"
   ]
  },
  {
   "cell_type": "markdown",
   "metadata": {},
   "source": [
    "### Projection Plots\n",
    "\n",
    "A projection plot is very literally a plot of a mathematical projection onto a plane. yt integrates the whole domain along a direction and plots the resulting data. Let's integrate the lapse along the z axis. (We can also set the width in the plot call.)"
   ]
  },
  {
   "cell_type": "code",
   "execution_count": null,
   "metadata": {
    "collapsed": false
   },
   "outputs": [],
   "source": [
    "prj = yt.ProjectionPlot(ds, 'z','lapse',width=200)\n",
    "prj.set_cmap(field=\"all\", cmap=\"jet\")\n",
    "prj.set_log('lapse',False)\n",
    "prj.show()"
   ]
  },
  {
   "cell_type": "markdown",
   "metadata": {
    "collapsed": false,
    "scrolled": false
   },
   "source": [
    "### Exercise\n",
    "\n",
    "Just as there are off-axis slice plots. There are off-axis projection plots. See if you can figure out how to do it."
   ]
  },
  {
   "cell_type": "markdown",
   "metadata": {
    "collapsed": false
   },
   "source": [
    "### Volume renders\n",
    "\n",
    "And now, finally, let's do a volume render! Let's render the density. yt has a very cool \"scene\" interface for volume rendering that lets you navigate around the volune before rendering it. For the documentation, see [here](http://yt-project.org/docs/dev/visualizing/volume_rendering.html). For now, let's do something simple. We will:\n",
    "\n",
    "1. Create a scene\n",
    "\n",
    "2. Tell the camera how much to zoom in\n",
    "\n",
    "3. Cut off a *little* bit of the light to reduce lens flair.\n",
    "\n",
    "4. Show the plot.\n",
    "\n",
    "yt has **way** more options, including very sophisticated options for the colors that are produced. The defaults are usually pretty good, but we're barely scratching the surface of what you can do."
   ]
  },
  {
   "cell_type": "code",
   "execution_count": null,
   "metadata": {
    "collapsed": false,
    "scrolled": true
   },
   "outputs": [],
   "source": [
    "sc = yt.create_scene(ds,'density')\n",
    "sc.camera.set_width(ds.arr(22, 'code_length'))\n",
    "sc.show(sigma_clip=1)"
   ]
  },
  {
   "cell_type": "markdown",
   "metadata": {
    "collapsed": true
   },
   "source": [
    "### Exercise\n",
    "\n",
    "See if you can use the scene interface to move around the spacetime and volume render from different angles."
   ]
  },
  {
   "cell_type": "markdown",
   "metadata": {},
   "source": [
    "## What Next?\n",
    "\n",
    "By now you've hopefully gained some understanding of how to make plots in yt. There are many more plots to try if you're interested. In `~/data` you will find:\n",
    "\n",
    "1. The Carpet output for the same static neutron star with a vertex centred refinement strategy\n",
    "\n",
    "2. A `SimulationIO` file for the first two timesteps of a binary neutron star merger\n",
    "\n",
    "3. A `SimulationIO` file for the full in-spiral and merger of two black holes. \n",
    "\n",
    "I've created skeletons notebooks for investigating these. See if you can make some visualizations using them!"
   ]
  }
 ],
 "metadata": {
  "kernelspec": {
   "display_name": "Python 2",
   "language": "python",
   "name": "python2"
  },
  "language_info": {
   "codemirror_mode": {
    "name": "ipython",
    "version": 2
   },
   "file_extension": ".py",
   "mimetype": "text/x-python",
   "name": "python",
   "nbconvert_exporter": "python",
   "pygments_lexer": "ipython2",
   "version": "2.7.11"
  }
 },
 "nbformat": 4,
 "nbformat_minor": 0
}
