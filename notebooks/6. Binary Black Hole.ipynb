{
 "cells": [
  {
   "cell_type": "markdown",
   "metadata": {
    "collapsed": true
   },
   "source": [
    "# Binary Black Hole\n",
    "\n",
    "This notebook will get you started on your path to visualizing gravitational waves. We will load in data from a simulation of a binary black hole in-spiral."
   ]
  },
  {
   "cell_type": "code",
   "execution_count": null,
   "metadata": {
    "collapsed": true
   },
   "outputs": [],
   "source": [
    "filename = 'data/qc0-mclachlan-cell.s5'"
   ]
  },
  {
   "cell_type": "markdown",
   "metadata": {},
   "source": [
    "First let's load our libraries."
   ]
  },
  {
   "cell_type": "code",
   "execution_count": null,
   "metadata": {
    "collapsed": true
   },
   "outputs": [],
   "source": [
    "import yt\n",
    "import pysimulationio"
   ]
  },
  {
   "cell_type": "markdown",
   "metadata": {},
   "source": [
    "## Finding the right configuration\n",
    "\n",
    "It's good to know what configuraitons are available to read in. There are two ways, essentially, to access that information. The first is to use the `pysimulationio` library like so:\n",
    "\n",
    "```python\n",
    "project,file_handle =\\\n",
    "    pysimulationio.readProject(filename)\n",
    "configuration_names =\\\n",
    "    [k for k in\\\n",
    "     project.configurations.iterkeys()]\n",
    "file_handle.close()\n",
    "```\n",
    "\n",
    "The other way is to use prior knowledge of the simulation to generate the list of configurations. That's the tactic we'll use here."
   ]
  },
  {
   "cell_type": "code",
   "execution_count": null,
   "metadata": {
    "collapsed": false
   },
   "outputs": [],
   "source": [
    "cname_template = 'iteration.{:0>10}-timelevel.0'\n",
    "configuration_names = [cname_template.format(i)\\\n",
    "                       for i in range(0,46656+192,192)]"
   ]
  },
  {
   "cell_type": "markdown",
   "metadata": {},
   "source": [
    "You can print the configuration names if you want. Fair warning: the list is long."
   ]
  },
  {
   "cell_type": "code",
   "execution_count": null,
   "metadata": {
    "collapsed": false,
    "scrolled": true
   },
   "outputs": [],
   "source": [
    "configuration_names"
   ]
  },
  {
   "cell_type": "markdown",
   "metadata": {},
   "source": [
    "## Loading in the Data\n",
    "\n",
    "Now let's load in the data. The data is cell-centred, so it's easy. (Warning, this may take a while.)"
   ]
  },
  {
   "cell_type": "code",
   "execution_count": null,
   "metadata": {
    "collapsed": false,
    "scrolled": true
   },
   "outputs": [],
   "source": [
    "configuration_name = configuration_names[23]\n",
    "ds = yt.load(filename,\n",
    "            configuration = configuration_name)"
   ]
  },
  {
   "cell_type": "markdown",
   "metadata": {},
   "source": [
    "## Gravitational Waves\n",
    "\n",
    "Gravitational waves, as we see them on Earth, are measured in \"strain\" $h$, which has two polarizations: $h_{+}$ and $h_{x}$. The strain represents the fractional distortion of distance divided by total distance:\n",
    "\n",
    "$$\\frac{\\Delta x}{x}$$\n",
    "\n",
    "$h_{+}$ and $h_{x}$ (and indeed gravitational waves in general) are only defined far from the merging compact objects, in the so-called \"wave zone.\" (Think electromagnetic waves. It's analogous.)\n",
    "\n",
    "One way of extracting the gravitational wave information is to look at what information propagates along null directions (i.e., what travels at the speed of light). Four scalars are usually defined this way, called the \"Weyl Scalars.\" Of particular interest to us is\n",
    "\n",
    "$$\\Psi_4 = C_{\\alpha\\beta\\gamma\\delta} n^\\alpha \\bar{m}^\\beta n^\\gamma \\bar{m}^\\delta$$\n",
    "\n",
    "where $C_{\\alpha\\beta\\gamma\\delta}$ is the Weyl tensor and the set $\\{l^\\alpha,n^\\alpha,m^\\alpha,\\bar{m}^\\beta\\}$ is a complex, null tetrad (collection of orthonormal basis vectors at each point).\n",
    "\n",
    "For asymptotically flat spacetimes, $\\Psi_4$ represents outgoing gravitational radiation. Indeed, if you go far enough away, it asymptotes to a particular combination of the derivatives of $h_+$ and $h_x$:\n",
    "\n",
    "$$\\Psi_4 \\to -\\ddot{h}_+ + i \\ddot{h}_x$$\n",
    "\n",
    "as $r\\to\\infty$.\n",
    "\n",
    "If you output $\\Psi_4$ in your simulation, you can plot in yt. In a parameter file, the settings look like:\n",
    "\n",
    "```\n",
    "IOHDF5::out_vars               = \"\n",
    "        WEYLSCAL4::Psi4r\n",
    "        WEYLSCAL4::Psi4i\n",
    "\"\n",
    "```\n",
    "\n",
    "to generate 3D data. You can also generate the data on a 2D extraction surface, but we won't cover that here.\n",
    "\n",
    "yt knows about the following fields related to gravitational waves:"
   ]
  },
  {
   "cell_type": "code",
   "execution_count": null,
   "metadata": {
    "collapsed": false
   },
   "outputs": [],
   "source": [
    "gw_fields = filter(lambda x: 'weyl' in x,\n",
    "                   map(lambda y: y[1],\n",
    "                       ds.derived_field_list))\n",
    "for field in gw_fields:\n",
    "    print field"
   ]
  },
  {
   "cell_type": "markdown",
   "metadata": {},
   "source": [
    "The real part gives you the second derivative of $h_+$, the imaginary part gives you the second derivative of $h_x$.\n",
    "\n",
    "The magnitude gives, very roughly, how strong the gravitational waves are.\n",
    "\n",
    "The average energy density (it's only meaningful if you average over at least one wave period!) of gravitational waves is something like\n",
    "\n",
    "$$\\left\\langle t^{00}\\right\\rangle = \\frac{1}{4\\pi}\\left\\langle \\dot{h}_+^2 + \\dot{h}_x^2\\right\\rangle$$\n",
    "\n",
    "So the power is\n",
    "\n",
    "$$\\frac{d}{dt}\\left\\langle t^{00}\\right\\rangle = \\frac{1}{2\\pi} \\left\\langle \\dot{h}_+\\ddot{h}_+ + \\dot{h}_x\\ddot{h}_x\\right\\rangle$$\n",
    "\n",
    "whereas \n",
    "\n",
    "$$|\\Psi_4| = \\sqrt{\\ddot{h}_+^2 + \\ddot{h}_x^2}$$"
   ]
  },
  {
   "cell_type": "markdown",
   "metadata": {},
   "source": [
    "## Exercises\n",
    "\n",
    "Plot various quantities related to gravitational waves. Unfortunately, analysing a whole simulation at once is not yet supported, so we recomend you stick to plotting $\\Psi_4$ and friends. Here are some possible tasks:\n",
    "\n",
    "* Volume render $Re(\\Psi_4)$ or $Im(\\Psi_4)$ and try and understand the structure. Does the shape remind you of anything?\n",
    "\n",
    "* Make a slice or projection plot of $|\\Psi_4|$\n",
    "\n",
    "* Make a movie. (See below)"
   ]
  },
  {
   "cell_type": "markdown",
   "metadata": {},
   "source": [
    "## Making a movie\n",
    "\n",
    "This dataset has a lot of data in it, so it's actually possible to make a movie of the gravitational waves (or of the motion of the black holes). There's no \"one-click\" way to do this, but there are a few possible strategies. "
   ]
  },
  {
   "cell_type": "markdown",
   "metadata": {},
   "source": [
    "### Strategy 1:  save a bunch of files and stitch them together later\n",
    "\n",
    "This is the easiet way to do things. Simply load several datasets in sequence and, for each one, save a plot. Then convert them into a gif using, say, `imagemagick`. Here's an example for just two or three frames:"
   ]
  },
  {
   "cell_type": "code",
   "execution_count": null,
   "metadata": {
    "collapsed": false,
    "scrolled": false
   },
   "outputs": [],
   "source": [
    "for j,i in enumerate(range(0,30,10)):\n",
    "    # in this loop i = 0,10,20 and j = 0,1,2\n",
    "    ds = yt.load(filename,\n",
    "                 configuration = configuration_names[i])\n",
    "    slc = yt.SlicePlot(ds,'z','lapse',width=10)\n",
    "    slc.set_log('lapse',False)\n",
    "    slc.save('qc0-frame-{}.png'.format(j))"
   ]
  },
  {
   "cell_type": "markdown",
   "metadata": {},
   "source": [
    "Now we can use some bash code to generate the gif. (The `%%bash` at the top of the cell means the cell gets evaluated as bash code.)"
   ]
  },
  {
   "cell_type": "code",
   "execution_count": null,
   "metadata": {
    "collapsed": false
   },
   "outputs": [],
   "source": [
    "%%bash\n",
    "convert -delay 100 qc0-frame-*.png qc0-movie.gif"
   ]
  },
  {
   "cell_type": "markdown",
   "metadata": {},
   "source": [
    "If you ran the above code, you can view the movie (in gif format) by embedding it in the notebook with some html code:"
   ]
  },
  {
   "cell_type": "code",
   "execution_count": null,
   "metadata": {
    "collapsed": false
   },
   "outputs": [],
   "source": [
    "%%html \n",
    "<img src=\"qc0-movie.gif\">"
   ]
  },
  {
   "cell_type": "markdown",
   "metadata": {},
   "source": [
    "### Strategy 2: Use Python's functionality\n",
    "\n",
    "Python contains a tool for making animations, the `matplotlib.animation` library. Therefore, you can also use this toolbox. The yt-project documentation has a tutorial on how to do this [here](http://yt-project.org/doc/cookbook/embedded_webm_animation.html). And [here's](https://jakevdp.github.io/blog/2012/08/18/matplotlib-animation-tutorial/) a nice tutorial that explains what's going on with the animation library. \n",
    "\n",
    "To embed in an IPython notebook, I prefer to use the awesome [jsanimation](https://github.com/jakevdp/JSAnimation) library. Here's an example."
   ]
  },
  {
   "cell_type": "code",
   "execution_count": null,
   "metadata": {
    "collapsed": false,
    "scrolled": true
   },
   "outputs": [],
   "source": [
    "# load the appropriate libraries\n",
    "from matplotlib import animation\n",
    "from JSAnimation import IPython_display\n",
    "\n",
    "# Set up the initial frame\n",
    "ds = yt.load(filename,\n",
    "                 configuration = configuration_names[0])\n",
    "slc = yt.SlicePlot(ds,'z','lapse',width=10)\n",
    "slc.set_log('lapse',False)\n",
    "fig = slc.plots['lapse'].figure\n",
    "\n",
    "# This function gets called to generate frame i\n",
    "def animate(i):\n",
    "    ds = yt.load(filename,\n",
    "                 configuration = configuration_names[10*i])\n",
    "    slc._switch_ds(ds) # feed a new dataset to the plot\n",
    "\n",
    "# call the python animation library\n",
    "# which uses the animate function to generate frames\n",
    "# thanks to JSAnimation, it'll display inline\n",
    "animation.FuncAnimation(fig,animate,frames=3,\n",
    "                        interval=200,blit=False)"
   ]
  },
  {
   "cell_type": "markdown",
   "metadata": {},
   "source": [
    "If you want to save the animation to a separate file, you can replace the last line with\n",
    "\n",
    "```python\n",
    "anim = animation.FuncAnimation(fig,animate,frames=3,\n",
    "                               interval=200,blit=False)\n",
    "anim.save('my-movie.mp4')\n",
    "```"
   ]
  }
 ],
 "metadata": {
  "kernelspec": {
   "display_name": "Python 2",
   "language": "python",
   "name": "python2"
  },
  "language_info": {
   "codemirror_mode": {
    "name": "ipython",
    "version": 2
   },
   "file_extension": ".py",
   "mimetype": "text/x-python",
   "name": "python",
   "nbconvert_exporter": "python",
   "pygments_lexer": "ipython2",
   "version": "2.7.11"
  }
 },
 "nbformat": 4,
 "nbformat_minor": 0
}
